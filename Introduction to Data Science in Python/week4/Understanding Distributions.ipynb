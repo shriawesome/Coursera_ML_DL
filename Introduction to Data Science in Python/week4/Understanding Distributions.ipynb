{
 "cells": [
  {
   "cell_type": "code",
   "execution_count": 17,
   "metadata": {},
   "outputs": [],
   "source": [
    "import numpy as np\n",
    "import matplotlib.pyplot as plt\n",
    "%matplotlib inline"
   ]
  },
  {
   "cell_type": "markdown",
   "metadata": {},
   "source": [
    "# Understanding Binomial Distribution"
   ]
  },
  {
   "cell_type": "code",
   "execution_count": 12,
   "metadata": {},
   "outputs": [
    {
     "data": {
      "text/plain": [
       "0.0225"
      ]
     },
     "execution_count": 12,
     "metadata": {},
     "output_type": "execute_result"
    }
   ],
   "source": [
    "# Probability of occurence of any one of the two possibilities\n",
    "# can use np.random.binomial() to simulate different events\n",
    "\n",
    "# Flip coin 20 times and perform this over 10000 and find the proportion\n",
    "# of getting a number greater than 15.\n",
    "events=np.random.binomial(20,0.5,10000)\n",
    "(events>=15).mean()"
   ]
  },
  {
   "cell_type": "code",
   "execution_count": 16,
   "metadata": {},
   "outputs": [
    {
     "name": "stdout",
     "output_type": "stream",
     "text": [
      "99 tornado occurs on consecutive days in 2739.72602739726 years\n"
     ]
    }
   ],
   "source": [
    "# Suppose chances of facing a Tornado is 1% and we want to check over million of days\n",
    "# how many times tornado comes on two consecutive days\n",
    "tornado=np.random.binomial(1,0.01,1000000)\n",
    "two_days_in_row=0\n",
    "for i in range(len(tornado)-1):\n",
    "    if tornado[i]==1 and tornado[i+1]==1:\n",
    "        two_days_in_row+=1\n",
    "print(\"{} tornado occurs on consecutive days in {} years\".format(two_days_in_row,1000000/365))"
   ]
  },
  {
   "cell_type": "markdown",
   "metadata": {},
   "source": [
    "# Gaussian Distribution/ Normal Distribution"
   ]
  },
  {
   "cell_type": "code",
   "execution_count": 25,
   "metadata": {},
   "outputs": [
    {
     "data": {
      "image/png": "[encoded data removed]",
      "text/plain": [
       "<Figure size 432x288 with 1 Axes>"
      ]
     },
     "metadata": {
      "needs_background": "light"
     },
     "output_type": "display_data"
    }
   ],
   "source": [
    "# Also called as a bell shaped curve with the mean at 0 and almost\n",
    "# 68% of the data that lies in 1 std unit.\n",
    "normal_data=np.random.normal(0.75,size=1000)\n",
    "plt.hist(normal_data,bins=50,histtype='step')\n",
    "plt.show()"
   ]
  },
  {
   "cell_type": "code",
   "execution_count": 27,
   "metadata": {},
   "outputs": [
    {
     "data": {
      "text/plain": [
       "0.9906819883312278"
      ]
     },
     "execution_count": 27,
     "metadata": {},
     "output_type": "execute_result"
    }
   ],
   "source": [
    "# std dev for the above distribution can be obtained via np.std()\n",
    "np.std(normal_data)"
   ]
  },
  {
   "cell_type": "code",
   "execution_count": 28,
   "metadata": {},
   "outputs": [
    {
     "data": {
      "text/plain": [
       "0.02982217114033725"
      ]
     },
     "execution_count": 28,
     "metadata": {},
     "output_type": "execute_result"
    }
   ],
   "source": [
    "# Kurtosis stands for the way the tail is at the end point of the distribution\n",
    "from scipy.stats import stats\n",
    "stats.kurtosis(normal_data)"
   ]
  },
  {
   "cell_type": "markdown",
   "metadata": {},
   "source": [
    "-ve value means the tail is slightly more flat than the normal distribution.<br>\n",
    "+ve value means that the tail is slightly more peaky than the normal distribution."
   ]
  },
  {
   "cell_type": "markdown",
   "metadata": {},
   "source": [
    "# Chi-square Distribution"
   ]
  },
  {
   "cell_type": "code",
   "execution_count": 31,
   "metadata": {},
   "outputs": [
    {
     "data": {
      "text/plain": [
       "1.8430046938010685"
      ]
     },
     "execution_count": 31,
     "metadata": {},
     "output_type": "execute_result"
    }
   ],
   "source": [
    "# It only has one parameter and i.e. degrees of freedom and is closely associated with the n_samples in the data\n",
    "chi_dist2=np.random.chisquare(2,size=10000)\n",
    "stats.skew(chi_dist2)"
   ]
  },
  {
   "cell_type": "code",
   "execution_count": 32,
   "metadata": {},
   "outputs": [
    {
     "data": {
      "text/plain": [
       "1.1648731445741336"
      ]
     },
     "execution_count": 32,
     "metadata": {},
     "output_type": "execute_result"
    }
   ],
   "source": [
    "chi_dist5=np.random.chisquare(5,size=10000)\n",
    "stats.skew(chi_dist5)"
   ]
  },
  {
   "cell_type": "code",
   "execution_count": 35,
   "metadata": {},
   "outputs": [
    {
     "data": {
      "image/png": "[encoded data removed]",
      "text/plain": [
       "<Figure size 432x288 with 1 Axes>"
      ]
     },
     "metadata": {
      "needs_background": "light"
     },
     "output_type": "display_data"
    }
   ],
   "source": [
    "# Let's visualise the skewness in the data\n",
    "plt.hist([chi_dist2,chi_dist5],bins=50,histtype='step',label=['Chi-distribution with dof 2','Chi-distribution with dof 5'])\n",
    "plt.legend(loc='upper right')\n",
    "plt.show()"
   ]
  },
  {
   "cell_type": "markdown",
   "metadata": {},
   "source": [
    "Hence, we can see that as we increase the dof the skewness in the data decreases and tends to form a bell like curve.\n"
   ]
  }
 ],
 "metadata": {
  "kernelspec": {
   "display_name": "Python 3",
   "language": "python",
   "name": "python3"
  },
  "language_info": {
   "codemirror_mode": {
    "name": "ipython",
    "version": 3
   },
   "file_extension": ".py",
   "mimetype": "text/x-python",
   "name": "python",
   "nbconvert_exporter": "python",
   "pygments_lexer": "ipython3",
   "version": "3.6.10"
  }
 },
 "nbformat": 4,
 "nbformat_minor": 4
}
